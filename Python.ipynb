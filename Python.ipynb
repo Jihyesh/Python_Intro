{
  "nbformat": 4,
  "nbformat_minor": 0,
  "metadata": {
    "colab": {
      "provenance": [],
      "toc_visible": true,
      "authorship_tag": "ABX9TyNPd9ZYGyInONNxkRaoaE0q",
      "include_colab_link": true
    },
    "kernelspec": {
      "name": "python3",
      "display_name": "Python 3"
    },
    "language_info": {
      "name": "python"
    }
  },
  "cells": [
    {
      "cell_type": "markdown",
      "metadata": {
        "id": "view-in-github",
        "colab_type": "text"
      },
      "source": [
        "<a href=\"https://colab.research.google.com/github/Jihyesh/Python_Intro/blob/main/Python.ipynb\" target=\"_parent\"><img src=\"https://colab.research.google.com/assets/colab-badge.svg\" alt=\"Open In Colab\"/></a>"
      ]
    },
    {
      "cell_type": "markdown",
      "source": [
        "### 숫자"
      ],
      "metadata": {
        "id": "qSPepY96ffGj"
      }
    },
    {
      "cell_type": "markdown",
      "source": [
        "### 텍스트 (문자열)"
      ],
      "metadata": {
        "id": "lujWi1_YgBH3"
      }
    },
    {
      "cell_type": "markdown",
      "source": [
        "### 튜플, 리스트"
      ],
      "metadata": {
        "id": "It3jgyMjgDm_"
      }
    },
    {
      "cell_type": "markdown",
      "source": [
        "### 딕셔너리, 셋"
      ],
      "metadata": {
        "id": "QTgVe5B_gIf6"
      }
    },
    {
      "cell_type": "markdown",
      "source": [
        "### if"
      ],
      "metadata": {
        "id": "wO64PhtPgK0G"
      }
    },
    {
      "cell_type": "markdown",
      "source": [
        "### 반복문: while, for"
      ],
      "metadata": {
        "id": "hN27-M51gSSK"
      }
    },
    {
      "cell_type": "markdown",
      "source": [
        "### 함수"
      ],
      "metadata": {
        "id": "-QyAnXcEgXCb"
      }
    },
    {
      "cell_type": "markdown",
      "source": [
        "### ⭐객체, 클래스"
      ],
      "metadata": {
        "id": "WgpZOxA_ga77"
      }
    },
    {
      "cell_type": "code",
      "source": [
        "# 빈 클래스 생성 (객체 생성을 위한 최소한의 정의)\n",
        "class Cat():\n",
        "  pass "
      ],
      "metadata": {
        "id": "ruBnGmu_ibep"
      },
      "execution_count": null,
      "outputs": []
    },
    {
      "cell_type": "code",
      "source": [
        "# Instance 생성\n",
        "a_cat = Cat()\n",
        "another_cat = Cat()"
      ],
      "metadata": {
        "id": "Mh0XXL-Ui-P-"
      },
      "execution_count": null,
      "outputs": []
    },
    {
      "cell_type": "code",
      "source": [
        "a_cat # object"
      ],
      "metadata": {
        "colab": {
          "base_uri": "https://localhost:8080/"
        },
        "id": "f5fQ2Ub4jrRJ",
        "outputId": "b840fb30-c206-4ce7-b7c1-fa2c0986ec24"
      },
      "execution_count": null,
      "outputs": [
        {
          "output_type": "execute_result",
          "data": {
            "text/plain": [
              "<__main__.Cat at 0x7f89d98e7520>"
            ]
          },
          "metadata": {},
          "execution_count": 3
        }
      ]
    },
    {
      "cell_type": "code",
      "source": [
        "# 속성 할당 (Attribute assignment)\n",
        "a_cat.age = 3\n",
        "a_cat.name = \"Mr. Fuzzybuttons\"\n",
        "a_cat.nameis = another_cat"
      ],
      "metadata": {
        "id": "lfJTTYqWkQoE"
      },
      "execution_count": null,
      "outputs": []
    },
    {
      "cell_type": "code",
      "source": [
        "a_cat.age"
      ],
      "metadata": {
        "colab": {
          "base_uri": "https://localhost:8080/"
        },
        "id": "DgnUZRj5kTpk",
        "outputId": "ee9a3f5c-508a-4657-ae93-745791ee7355"
      },
      "execution_count": null,
      "outputs": [
        {
          "output_type": "execute_result",
          "data": {
            "text/plain": [
              "3"
            ]
          },
          "metadata": {},
          "execution_count": 5
        }
      ]
    },
    {
      "cell_type": "code",
      "source": [
        "a_cat.name"
      ],
      "metadata": {
        "colab": {
          "base_uri": "https://localhost:8080/",
          "height": 35
        },
        "id": "aJlSHM2UkhTL",
        "outputId": "f3087a83-7b55-4d7c-b520-aa6fb44becf7"
      },
      "execution_count": null,
      "outputs": [
        {
          "output_type": "execute_result",
          "data": {
            "text/plain": [
              "'Mr. Fuzzybuttons'"
            ],
            "application/vnd.google.colaboratory.intrinsic+json": {
              "type": "string"
            }
          },
          "metadata": {},
          "execution_count": 6
        }
      ]
    },
    {
      "cell_type": "code",
      "source": [
        "a_cat.nameis"
      ],
      "metadata": {
        "colab": {
          "base_uri": "https://localhost:8080/"
        },
        "id": "yRTEy-cWkizY",
        "outputId": "8e9cef43-d765-4dfe-f3f6-a8e9f1b50efa"
      },
      "execution_count": null,
      "outputs": [
        {
          "output_type": "execute_result",
          "data": {
            "text/plain": [
              "<__main__.Cat at 0x7f89d98e74c0>"
            ]
          },
          "metadata": {},
          "execution_count": 11
        }
      ]
    },
    {
      "cell_type": "code",
      "source": [
        "a_cat.nameis.name\n",
        "\n",
        "# nameis 속성은 Cat 객체를 참조하기 때문에, a_cat.nameis를 사용하여 접근할 수 있지만\n",
        "# name 속성이 할당되지는 않았음"
      ],
      "metadata": {
        "colab": {
          "base_uri": "https://localhost:8080/",
          "height": 165
        },
        "id": "laEKO3wGlUVQ",
        "outputId": "be4cd944-70f2-4a73-ebfb-c49bcc694252"
      },
      "execution_count": null,
      "outputs": [
        {
          "output_type": "error",
          "ename": "AttributeError",
          "evalue": "ignored",
          "traceback": [
            "\u001b[0;31m---------------------------------------------------------------------------\u001b[0m",
            "\u001b[0;31mAttributeError\u001b[0m                            Traceback (most recent call last)",
            "\u001b[0;32m<ipython-input-12-e29ac22702b8>\u001b[0m in \u001b[0;36m<module>\u001b[0;34m\u001b[0m\n\u001b[0;32m----> 1\u001b[0;31m \u001b[0ma_cat\u001b[0m\u001b[0;34m.\u001b[0m\u001b[0mnameis\u001b[0m\u001b[0;34m.\u001b[0m\u001b[0mname\u001b[0m\u001b[0;34m\u001b[0m\u001b[0;34m\u001b[0m\u001b[0m\n\u001b[0m",
            "\u001b[0;31mAttributeError\u001b[0m: 'Cat' object has no attribute 'name'"
          ]
        }
      ]
    },
    {
      "cell_type": "code",
      "source": [
        "a_cat.nameis.name = \"Mr.Biggleworth\"\n",
        "a_cat.nameis.name \n",
        "\n",
        "# 간단한 객체에서도 여러 속성을 저장하는 데 사용할 수 있음\n",
        "# 리스트, 딕셔너리와 같은 자료구조를 사용하는 대신 여러 객체를 사용하여 다른 값을 저장할 수 있음"
      ],
      "metadata": {
        "colab": {
          "base_uri": "https://localhost:8080/",
          "height": 35
        },
        "id": "aud8CNjJlNEr",
        "outputId": "26af9d07-30ea-4119-f753-672f7bb6a347"
      },
      "execution_count": null,
      "outputs": [
        {
          "output_type": "execute_result",
          "data": {
            "text/plain": [
              "'Mr.Biggleworth'"
            ],
            "application/vnd.google.colaboratory.intrinsic+json": {
              "type": "string"
            }
          },
          "metadata": {},
          "execution_count": 13
        }
      ]
    },
    {
      "cell_type": "code",
      "source": [
        "# 메서드는 클래스 또는 객체의 함수"
      ],
      "metadata": {
        "id": "2IvmXxMMmvOT"
      },
      "execution_count": null,
      "outputs": []
    },
    {
      "cell_type": "code",
      "source": [
        "# 초기화\n",
        "\n",
        "class Cat:\n",
        "  def __init__(self): # __init__() : 객체 초기화, self 매개변수: 객체 자신 참조하도록 지정\n",
        "    pass\n"
      ],
      "metadata": {
        "id": "GLBA_UUjnfQ7"
      },
      "execution_count": null,
      "outputs": []
    },
    {
      "cell_type": "code",
      "source": [
        "class Cat():\n",
        "  def __init__(self, name): # 초기화 메서드에 매개변수 이름을 추가\n",
        "    self.name = name # 속성 할당"
      ],
      "metadata": {
        "id": "cAuB1W7Vn4nj"
      },
      "execution_count": null,
      "outputs": []
    },
    {
      "cell_type": "code",
      "source": [
        "furball = Cat('Grumpy')\n",
        "\"\"\"\n",
        "1. Cat 클래스 정의를 찾는다\n",
        "2. 메모리에 새 객체를 초기화(생성)한다\n",
        "3. 객체의 __init__ 메서드를 호출한다. 새롭게 생성된 객체를 self에 전달하고, 인수('Grumpy')를 name에 전달한다\n",
        "4. 객체에 name 값을 저장한다\n",
        "5. 새 객체를 반환한다\n",
        "6. furball 변수에 이 객체를 연결한다\n",
        "\"\"\"\n",
        "# __init__ 은 생성하는 것이 아니라, 다른 객체와 구분하는 작동을 함"
      ],
      "metadata": {
        "id": "1dhJcRvBoLX-"
      },
      "execution_count": null,
      "outputs": []
    },
    {
      "cell_type": "code",
      "source": [
        "print('Our latest addition: ', furball.name)"
      ],
      "metadata": {
        "colab": {
          "base_uri": "https://localhost:8080/"
        },
        "id": "0HwlJCM9qN3f",
        "outputId": "93b109e7-99cc-49f4-ce1b-90b2dd524983"
      },
      "execution_count": null,
      "outputs": [
        {
          "output_type": "stream",
          "name": "stdout",
          "text": [
            "Our latest addition:  Grumpy\n"
          ]
        }
      ]
    },
    {
      "cell_type": "code",
      "source": [
        "# 상속\n",
        "# Parent class = Super class = Base class\n",
        "# Child class = Sub class = Derived class\n",
        "\n",
        "class Car():\n",
        "  pass\n",
        "\n",
        "class Yugo(Car):\n",
        "  pass"
      ],
      "metadata": {
        "id": "befm-Gmfqv3W"
      },
      "execution_count": null,
      "outputs": []
    },
    {
      "cell_type": "code",
      "source": [
        "issubclass(Yugo, Car) # Child - Parent 사이인지 확인"
      ],
      "metadata": {
        "colab": {
          "base_uri": "https://localhost:8080/"
        },
        "id": "8zZdcIu8s4td",
        "outputId": "46366023-a8b5-420c-dd4b-4619ed9939ea"
      },
      "execution_count": null,
      "outputs": [
        {
          "output_type": "execute_result",
          "data": {
            "text/plain": [
              "True"
            ]
          },
          "metadata": {},
          "execution_count": 19
        }
      ]
    },
    {
      "cell_type": "code",
      "source": [
        "class Car():\n",
        "  def exclaim(self):\n",
        "    print(\"I'm a Car!\")\n",
        "\n",
        "class Yugo(Car):\n",
        "  pass\n"
      ],
      "metadata": {
        "id": "KnsRnJ6xtFS2"
      },
      "execution_count": null,
      "outputs": []
    },
    {
      "cell_type": "code",
      "source": [
        "give_me_a_car = Car()\n",
        "give_me_a_yugo = Yugo()\n",
        "give_me_a_car.exclaim()"
      ],
      "metadata": {
        "colab": {
          "base_uri": "https://localhost:8080/"
        },
        "id": "qTWt3sr0ttws",
        "outputId": "b9f86059-42f7-4213-97eb-a4b5a002d57a"
      },
      "execution_count": null,
      "outputs": [
        {
          "output_type": "stream",
          "name": "stdout",
          "text": [
            "I'm a Car!\n"
          ]
        }
      ]
    },
    {
      "cell_type": "code",
      "source": [
        "give_me_a_yugo.exclaim() # exclaim 메서드를 상속받음"
      ],
      "metadata": {
        "colab": {
          "base_uri": "https://localhost:8080/"
        },
        "id": "pYL3q5-Ht7lT",
        "outputId": "9ea5eefe-025f-4a07-a091-1b71e992979d"
      },
      "execution_count": null,
      "outputs": [
        {
          "output_type": "stream",
          "name": "stdout",
          "text": [
            "I'm a Car!\n"
          ]
        }
      ]
    },
    {
      "cell_type": "code",
      "source": [
        "# Method Override\n",
        "\n",
        "class Person():\n",
        "  def __init__(self, name):\n",
        "    self.name = name\n",
        "\n",
        "class MDPerson(Person):\n",
        "  def __init__(self, name):\n",
        "    self.name = \"Doctor\" + name\n",
        "\n",
        "class JDPerson(Person):\n",
        "  def __init__(self, name):\n",
        "    self.name = name + \" , Esquire\""
      ],
      "metadata": {
        "id": "qQ-s78cduH69"
      },
      "execution_count": null,
      "outputs": []
    },
    {
      "cell_type": "code",
      "source": [
        "person = Person(\"Fudd\")\n",
        "doctor = MDPerson(\"Fudd\")\n",
        "lawyer = JDPerson(\"Fudd\")\n",
        "\n",
        "print(person.name)\n",
        "print(doctor.name)\n",
        "print(lawyer.name)"
      ],
      "metadata": {
        "colab": {
          "base_uri": "https://localhost:8080/"
        },
        "id": "f9wIjRtEvJBY",
        "outputId": "058d9e9e-80b7-4a30-a1c3-48dc80b96089"
      },
      "execution_count": null,
      "outputs": [
        {
          "output_type": "stream",
          "name": "stdout",
          "text": [
            "Fudd\n",
            "DoctorFudd\n",
            "Fudd , Esquire\n"
          ]
        }
      ]
    },
    {
      "cell_type": "code",
      "source": [
        "# Method 추가\n",
        "\n",
        "class Car():\n",
        "  def exclaim(self):\n",
        "    print(\"I'm a Car!\")\n",
        "\n",
        "class Yugo(Car):\n",
        "  def exclaim(self):\n",
        "    print(\"I'm a Yugo! Much like a Car, but more Yugo-ish.\")\n",
        "  def need_a_push(self):\n",
        "    print(\"A little help here?\")"
      ],
      "metadata": {
        "id": "4DsVGBhCvuBD"
      },
      "execution_count": null,
      "outputs": []
    },
    {
      "cell_type": "code",
      "source": [
        "give_me_a_car = Car()\n",
        "give_me_a_yugo = Yugo()\n",
        "\n",
        "give_me_a_yugo.need_a_push()"
      ],
      "metadata": {
        "colab": {
          "base_uri": "https://localhost:8080/"
        },
        "id": "1b5FJ5WUwmRA",
        "outputId": "ca99c1c4-84af-4e3e-b41c-7827f6068928"
      },
      "execution_count": null,
      "outputs": [
        {
          "output_type": "stream",
          "name": "stdout",
          "text": [
            "A little help here?\n"
          ]
        }
      ]
    },
    {
      "cell_type": "code",
      "source": [
        "give_me_a_car.need_a_push()"
      ],
      "metadata": {
        "colab": {
          "base_uri": "https://localhost:8080/",
          "height": 165
        },
        "id": "EHnO5ArwwwgK",
        "outputId": "2c267c3f-93fd-4918-f2a4-59f49c5b22b3"
      },
      "execution_count": null,
      "outputs": [
        {
          "output_type": "error",
          "ename": "AttributeError",
          "evalue": "ignored",
          "traceback": [
            "\u001b[0;31m---------------------------------------------------------------------------\u001b[0m",
            "\u001b[0;31mAttributeError\u001b[0m                            Traceback (most recent call last)",
            "\u001b[0;32m<ipython-input-27-25de065dd6f4>\u001b[0m in \u001b[0;36m<module>\u001b[0;34m\u001b[0m\n\u001b[0;32m----> 1\u001b[0;31m \u001b[0mgive_me_a_car\u001b[0m\u001b[0;34m.\u001b[0m\u001b[0mneed_a_push\u001b[0m\u001b[0;34m(\u001b[0m\u001b[0;34m)\u001b[0m\u001b[0;34m\u001b[0m\u001b[0;34m\u001b[0m\u001b[0m\n\u001b[0m",
            "\u001b[0;31mAttributeError\u001b[0m: 'Car' object has no attribute 'need_a_push'"
          ]
        }
      ]
    },
    {
      "cell_type": "code",
      "source": [
        "# super()\n",
        "\n",
        "class Person():\n",
        "  def __init__(self, born_year, name):\n",
        "    self.name = name + \" is name from Person Class\"\n",
        "    self.age = 2022 - born_year\n",
        "\n",
        "class EmailPerson(Person):\n",
        "  def __init__(self, name, born_year, email):\n",
        "    super().__init__(born_year,name)\n",
        "    self.email = email\n",
        "\n",
        "\"\"\"\n",
        "1. super() 메서드는 부모 클래스(Person)의 정의를 얻는다\n",
        "2. __init__() 메서드는 Person.__init__() 메서드를 호출한다. 이 메서드는 self 인수를 부모 클래스로 전달하는 역할을 한다.\n",
        "그러므로 슈퍼 클래스에 선택적 인수를 제공하기만 하면 된다. 이 경우 Person()에서 받는 인수는 name이다.\n",
        "3. self.email = email은 EmailPerson 클래스를 Person 클래스와 다르게 만들어주는 새로운 코드다.\n",
        "\"\"\""
      ],
      "metadata": {
        "colab": {
          "base_uri": "https://localhost:8080/",
          "height": 53
        },
        "id": "JkatgJSEw1ae",
        "outputId": "323ca506-ecf5-4e82-b907-84c9b12802dd"
      },
      "execution_count": null,
      "outputs": [
        {
          "output_type": "execute_result",
          "data": {
            "text/plain": [
              "'\\n1. super() 메서드는 부모 클래스(Person)의 정의를 얻는다\\n2. __init__() 메서드는 Person.__init__() 메서드를 호출한다. 이 메서드는 self 인수를 부모 클래스로 전달하는 역할을 한다.\\n그러므로 슈퍼 클래스에 선택적 인수를 제공하기만 하면 된다. 이 경우 Person()에서 받는 인수는 name이다.\\n3. self.email = email은 EmailPerson 클래스를 Person 클래스와 다르게 만들어주는 새로운 코드다.\\n'"
            ],
            "application/vnd.google.colaboratory.intrinsic+json": {
              "type": "string"
            }
          },
          "metadata": {},
          "execution_count": 14
        }
      ]
    },
    {
      "cell_type": "code",
      "source": [
        "bob = EmailPerson('Bob Frapples', 1990, 'bob@frampples.com')\n",
        "\n",
        "print(bob.name)\n",
        "print(bob.age)\n",
        "print(bob.email)"
      ],
      "metadata": {
        "colab": {
          "base_uri": "https://localhost:8080/"
        },
        "id": "-u03qvSIxdIS",
        "outputId": "46d7b3be-e7a6-4dee-da78-cfe7f2db8fa9"
      },
      "execution_count": null,
      "outputs": [
        {
          "output_type": "stream",
          "name": "stdout",
          "text": [
            "Bob Frapples is name from Person Class\n",
            "32\n",
            "bob@frampples.com\n"
          ]
        }
      ]
    },
    {
      "cell_type": "code",
      "source": [
        "# 다중 상속\n",
        "\n",
        "# MRO(Methond Resolution Order)\n",
        "\n",
        "class Animal:\n",
        "  def says(self):\n",
        "    return 'I speak!'\n",
        "\n",
        "class Horse(Animal):\n",
        "  def says(self):\n",
        "    return 'Neigh!'\n",
        "\n",
        "class Donkey(Animal):\n",
        "  def says(self):\n",
        "    return 'Hee-haw!'\n",
        "\n",
        "class Minjae(Animal):\n",
        "  pass\n",
        "\n",
        "class Mule(Donkey, Horse):\n",
        "  pass\n",
        "\n",
        "class Hinny(Horse,Donkey):\n",
        "  pass\n",
        "\n",
        "class MinjaeKim(Minjae):\n",
        "  pass"
      ],
      "metadata": {
        "id": "PfdoD3-kP2WH"
      },
      "execution_count": null,
      "outputs": []
    },
    {
      "cell_type": "code",
      "source": [
        "Mule.mro()"
      ],
      "metadata": {
        "colab": {
          "base_uri": "https://localhost:8080/"
        },
        "id": "5tk3MLoiR8qU",
        "outputId": "1d16cd90-5385-483d-9e67-6207359b36c3"
      },
      "execution_count": null,
      "outputs": [
        {
          "output_type": "execute_result",
          "data": {
            "text/plain": [
              "[__main__.Mule, __main__.Donkey, __main__.Horse, __main__.Animal, object]"
            ]
          },
          "metadata": {},
          "execution_count": 26
        }
      ]
    },
    {
      "cell_type": "code",
      "source": [
        "Hinny.mro()"
      ],
      "metadata": {
        "colab": {
          "base_uri": "https://localhost:8080/"
        },
        "id": "Nq0KDIsqR_Xv",
        "outputId": "48b00b0b-db5b-4d25-dd82-a8a360994edb"
      },
      "execution_count": null,
      "outputs": [
        {
          "output_type": "execute_result",
          "data": {
            "text/plain": [
              "[__main__.Hinny, __main__.Horse, __main__.Donkey, __main__.Animal, object]"
            ]
          },
          "metadata": {},
          "execution_count": 27
        }
      ]
    },
    {
      "cell_type": "code",
      "source": [
        "mule = Mule()\n",
        "hinny = Hinny()\n",
        "minjaekim = MinjaeKim() # instantiate을 안 하면, missing 1 required positional argument: 'self' 에러가 나옴\n",
        "print(mule.says())\n",
        "print(hinny.says())\n",
        "# print(MinjaeKim.says())\n",
        "print(minjaekim.says())"
      ],
      "metadata": {
        "colab": {
          "base_uri": "https://localhost:8080/"
        },
        "id": "V6TeHhldSLax",
        "outputId": "c2822fe2-bd48-477e-e8c9-c967bcaa2bfa"
      },
      "execution_count": null,
      "outputs": [
        {
          "output_type": "stream",
          "name": "stdout",
          "text": [
            "Hee-haw!\n",
            "Neigh!\n",
            "I speak!\n"
          ]
        }
      ]
    },
    {
      "cell_type": "code",
      "source": [
        "class PrettyMixin():\n",
        "  def dump(self):\n",
        "    import pprint\n",
        "    pprint.pprint(vars(self))\n",
        "\n",
        "\n",
        "class Thing(PrettyMixin):\n",
        "  pass\n",
        "\n",
        "# 클래스 정의에 부모 클래스를 추가하여 상속받을 수 있다.\n",
        "t = Thing()\n",
        "t.name = \"Nyarlathotep\"\n",
        "t.feature = 'ichor'\n",
        "t.age = 'eldritch'\n",
        "\n",
        "t.dump()\n"
      ],
      "metadata": {
        "colab": {
          "base_uri": "https://localhost:8080/"
        },
        "id": "lHzY77mIXnyr",
        "outputId": "25b682db-d25d-42f4-ec35-2309b24cebb2"
      },
      "execution_count": null,
      "outputs": [
        {
          "output_type": "stream",
          "name": "stdout",
          "text": [
            "{'age': 'eldritch', 'feature': 'ichor', 'name': 'Nyarlathotep'}\n"
          ]
        }
      ]
    },
    {
      "cell_type": "code",
      "source": [
        "# self\n",
        "\n",
        "class Car():\n",
        "  def exclaim(self):\n",
        "    print(\"I'm a Car!\")\n",
        "\n",
        "\n",
        "a_car = Car()\n",
        "a_car.exclaim()\n",
        "\n",
        "\"\"\"\n",
        "1. a_car 객체의 Car 클래스를 찾는다\n",
        "2. a_car 객체를 Car 클래스 exclaim() 메서드의 self 매개변수에 전달한다\n",
        "\"\"\""
      ],
      "metadata": {
        "colab": {
          "base_uri": "https://localhost:8080/",
          "height": 53
        },
        "id": "HCzT0PVKY_jP",
        "outputId": "ef1d05e7-e5a7-47be-f3c4-a72092f389b8"
      },
      "execution_count": null,
      "outputs": [
        {
          "output_type": "stream",
          "name": "stdout",
          "text": [
            "I'm a Car!\n"
          ]
        },
        {
          "output_type": "execute_result",
          "data": {
            "text/plain": [
              "'\\n1. a_car 객체의 Car 클래스를 찾는다\\n2. a_car 객체를 Car 클래스 exclaim() 메서드의 self 매개변수에 전달한다\\n'"
            ],
            "application/vnd.google.colaboratory.intrinsic+json": {
              "type": "string"
            }
          },
          "metadata": {},
          "execution_count": 44
        }
      ]
    },
    {
      "cell_type": "code",
      "source": [
        "# 속성 접근\n",
        "\n",
        "class Duck:\n",
        "  def __init__(self, input_name):\n",
        "    self.name = input_name\n",
        "\n",
        "fowl = Duck('Daffy')\n",
        "print(fowl.name)\n",
        "fowl.name = 'Daphne'\n",
        "print(fowl.name)"
      ],
      "metadata": {
        "colab": {
          "base_uri": "https://localhost:8080/"
        },
        "id": "VF09_bBDZxmx",
        "outputId": "4fc314b3-f6f2-4dd3-c857-8979d45c05ed"
      },
      "execution_count": null,
      "outputs": [
        {
          "output_type": "stream",
          "name": "stdout",
          "text": [
            "Daffy\n",
            "Daphne\n"
          ]
        }
      ]
    },
    {
      "cell_type": "code",
      "source": [
        "# Getter/Setter\n",
        "# 외부에서 속성에 직접 접근하지 못하도록\n",
        "\n",
        "class Duck():\n",
        "  def __init__(self,input_name):\n",
        "    self.hidden_name = input_name\n",
        "  def get_name(self):\n",
        "    print('inside the getter')\n",
        "    return self.hidden_name\n",
        "  def set_name(self, input_name):\n",
        "    print('inside the setter')\n",
        "    self.hidden_name = input_name\n",
        "\n",
        "don = Duck('Donald')\n",
        "print(don.get_name())\n",
        "print(don.set_name('Donna'))\n",
        "print(don.get_name())"
      ],
      "metadata": {
        "colab": {
          "base_uri": "https://localhost:8080/"
        },
        "id": "qjN1Qdgla7ji",
        "outputId": "4f074832-bb6a-4512-8c9f-dcae35f62c1d"
      },
      "execution_count": null,
      "outputs": [
        {
          "output_type": "stream",
          "name": "stdout",
          "text": [
            "inside the getter\n",
            "Donald\n",
            "inside the setter\n",
            "None\n",
            "inside the getter\n",
            "Donna\n"
          ]
        }
      ]
    },
    {
      "cell_type": "code",
      "source": [
        "# Property\n",
        "# 속성 접근을 위한 property \n",
        "## (1) 구문 추가: name = property(get_name, set_name)\n",
        "## (2) 데커레이터 추가: @property, @name.setter\n",
        "\n",
        "class Duck():\n",
        "  def __init__(self, input_name):\n",
        "    self.hidden_name = input_name\n",
        "  def get_name(self):\n",
        "    print('inside the getter')\n",
        "    return self.hidden_name\n",
        "  def set_name(self, input_name):\n",
        "    print('inside the setter')\n",
        "    self.hidden_name = input_name\n",
        "  name = property(get_name, set_name) # 구문 추가\n"
      ],
      "metadata": {
        "id": "A8AlURthc0MX"
      },
      "execution_count": 1,
      "outputs": []
    },
    {
      "cell_type": "markdown",
      "source": [
        "Built-in class `property()`\n",
        "\n",
        "[property(fget=None, fset=None, fdel=None, doc=None)](https://docs.python.org/3/library/functions.html#property)\n",
        "\n",
        "A property object has getter, setter, and deleter methods usable as decorators that create a copy of the property with the corresponding accessor function set to the decorated function. This is best explained with an example:\n",
        "\n",
        "```python\n",
        "class C:\n",
        "    def __init__(self):\n",
        "        self._x = None\n",
        "\n",
        "    @property\n",
        "    def x(self):\n",
        "        \"\"\"I'm the 'x' property.\"\"\"\n",
        "        return self._x\n",
        "\n",
        "    @x.setter\n",
        "    def x(self, value):\n",
        "        self._x = value\n",
        "\n",
        "    @x.deleter\n",
        "    def x(self):\n",
        "        del self._x\n",
        "```"
      ],
      "metadata": {
        "id": "CslR9kWJJwoO"
      }
    },
    {
      "cell_type": "code",
      "source": [
        "don = Duck('Donald')\n",
        "print(don.get_name())\n",
        "don.set_name('Dona')\n",
        "print(don.get_name())"
      ],
      "metadata": {
        "id": "uAwfV9gRGljr",
        "outputId": "606f11ab-5536-4ac5-9d42-dacfb15857ea",
        "colab": {
          "base_uri": "https://localhost:8080/"
        }
      },
      "execution_count": 3,
      "outputs": [
        {
          "output_type": "stream",
          "name": "stdout",
          "text": [
            "inside the getter\n",
            "Donald\n",
            "inside the setter\n",
            "inside the getter\n",
            "Dona\n"
          ]
        }
      ]
    },
    {
      "cell_type": "code",
      "source": [
        "don = Duck('Seungho')\n",
        "print(don.name)\n",
        "don.name = 'Jinsu'\n",
        "print(don.name)"
      ],
      "metadata": {
        "id": "zd-LAsAFI2Qs",
        "outputId": "dd815e24-5b73-4ce8-a5e1-a2fceb68d42d",
        "colab": {
          "base_uri": "https://localhost:8080/"
        }
      },
      "execution_count": 4,
      "outputs": [
        {
          "output_type": "stream",
          "name": "stdout",
          "text": [
            "inside the getter\n",
            "Seungho\n",
            "inside the setter\n",
            "inside the getter\n",
            "Jinsu\n"
          ]
        }
      ]
    },
    {
      "cell_type": "code",
      "source": [
        "# 데커레이터 추가 : getter 메서드 앞에 @property, setter 메서드 앞에 @name.setter\n",
        "\n",
        "class Duck():\n",
        "  def __init__(self, input_name):\n",
        "    self.hidden_name = input_name\n",
        "  \n",
        "  @property\n",
        "  def name(self):\n",
        "    print('inside the getter')\n",
        "    return self.hidden_name\n",
        "\n",
        "  @name.setter\n",
        "  def name(self, input_name):\n",
        "    print('inside the setter')\n",
        "    self.hidden_name = input_name"
      ],
      "metadata": {
        "id": "DRkvV-n0KwLR"
      },
      "execution_count": 5,
      "outputs": []
    },
    {
      "cell_type": "code",
      "source": [
        "fowl = Duck('Suwon_seungho')\n",
        "fowl.name"
      ],
      "metadata": {
        "id": "bub-mzSvMTXf",
        "outputId": "b0cf30c3-963c-4b69-c0bc-b273baec4b69",
        "colab": {
          "base_uri": "https://localhost:8080/",
          "height": 53
        }
      },
      "execution_count": 6,
      "outputs": [
        {
          "output_type": "stream",
          "name": "stdout",
          "text": [
            "inside the getter\n"
          ]
        },
        {
          "output_type": "execute_result",
          "data": {
            "text/plain": [
              "'Suwon_seungho'"
            ],
            "application/vnd.google.colaboratory.intrinsic+json": {
              "type": "string"
            }
          },
          "metadata": {},
          "execution_count": 6
        }
      ]
    },
    {
      "cell_type": "code",
      "source": [
        "fowl.name = 'Jeonbook_seungho'\n",
        "fowl.name"
      ],
      "metadata": {
        "id": "NvlFU4tUMe1m",
        "outputId": "deff61a5-26e5-4856-964a-149283ea2616",
        "colab": {
          "base_uri": "https://localhost:8080/",
          "height": 70
        }
      },
      "execution_count": 7,
      "outputs": [
        {
          "output_type": "stream",
          "name": "stdout",
          "text": [
            "inside the setter\n",
            "inside the getter\n"
          ]
        },
        {
          "output_type": "execute_result",
          "data": {
            "text/plain": [
              "'Jeonbook_seungho'"
            ],
            "application/vnd.google.colaboratory.intrinsic+json": {
              "type": "string"
            }
          },
          "metadata": {},
          "execution_count": 7
        }
      ]
    },
    {
      "cell_type": "code",
      "source": [
        "class Circle():\n",
        "  def __init__(self, radius):\n",
        "    self.radius = radius\n",
        "  \n",
        "  @property\n",
        "  def diameter(self):\n",
        "    return 2 * self.radius"
      ],
      "metadata": {
        "id": "gIA1CqGyQ0Lr"
      },
      "execution_count": 8,
      "outputs": []
    },
    {
      "cell_type": "code",
      "source": [
        "c = Circle(5)\n",
        "c.radius"
      ],
      "metadata": {
        "id": "oz-WH6NmTKkk",
        "outputId": "4eef92ad-43ce-483b-a19c-3ae39d8c844d",
        "colab": {
          "base_uri": "https://localhost:8080/"
        }
      },
      "execution_count": 9,
      "outputs": [
        {
          "output_type": "execute_result",
          "data": {
            "text/plain": [
              "5"
            ]
          },
          "metadata": {},
          "execution_count": 9
        }
      ]
    },
    {
      "cell_type": "code",
      "source": [
        "c.diameter"
      ],
      "metadata": {
        "id": "AhvZE8oNTQZK",
        "outputId": "84f45722-6666-4519-c4f0-4f136be57a47",
        "colab": {
          "base_uri": "https://localhost:8080/"
        }
      },
      "execution_count": 10,
      "outputs": [
        {
          "output_type": "execute_result",
          "data": {
            "text/plain": [
              "10"
            ]
          },
          "metadata": {},
          "execution_count": 10
        }
      ]
    },
    {
      "cell_type": "code",
      "source": [
        "c.radius = 7\n",
        "c.diameter "
      ],
      "metadata": {
        "id": "N6bc4h0GTZHR",
        "outputId": "a40a2ed5-a823-4812-ee51-8371af56f2ff",
        "colab": {
          "base_uri": "https://localhost:8080/"
        }
      },
      "execution_count": 11,
      "outputs": [
        {
          "output_type": "execute_result",
          "data": {
            "text/plain": [
              "14"
            ]
          },
          "metadata": {},
          "execution_count": 11
        }
      ]
    },
    {
      "cell_type": "code",
      "source": [
        "c.diameter = 12 # setter property를 넣지 않았기 때문에, read-only 속성"
      ],
      "metadata": {
        "id": "f61vpunJUGrJ",
        "outputId": "75e4af04-7771-45ce-dabb-d764b0477439",
        "colab": {
          "base_uri": "https://localhost:8080/",
          "height": 165
        }
      },
      "execution_count": 12,
      "outputs": [
        {
          "output_type": "error",
          "ename": "AttributeError",
          "evalue": "ignored",
          "traceback": [
            "\u001b[0;31m---------------------------------------------------------------------------\u001b[0m",
            "\u001b[0;31mAttributeError\u001b[0m                            Traceback (most recent call last)",
            "\u001b[0;32m<ipython-input-12-4eff73be8689>\u001b[0m in \u001b[0;36m<module>\u001b[0;34m\u001b[0m\n\u001b[0;32m----> 1\u001b[0;31m \u001b[0mc\u001b[0m\u001b[0;34m.\u001b[0m\u001b[0mdiameter\u001b[0m \u001b[0;34m=\u001b[0m \u001b[0;36m12\u001b[0m\u001b[0;34m\u001b[0m\u001b[0;34m\u001b[0m\u001b[0m\n\u001b[0m",
            "\u001b[0;31mAttributeError\u001b[0m: can't set attribute"
          ]
        }
      ]
    },
    {
      "cell_type": "code",
      "source": [
        "# 프라이버시를 위한 네임 맹글링\n"
      ],
      "metadata": {
        "id": "a4XmyZU4UmyI"
      },
      "execution_count": null,
      "outputs": []
    },
    {
      "cell_type": "markdown",
      "source": [
        "### 모듈, 패키지"
      ],
      "metadata": {
        "id": "N3qr1JvCgfgI"
      }
    },
    {
      "cell_type": "markdown",
      "source": [
        "### 유니코드"
      ],
      "metadata": {
        "id": "OCmGo3aCgiNA"
      }
    },
    {
      "cell_type": "markdown",
      "source": [
        "### 정규 표현식"
      ],
      "metadata": {
        "id": "M4Hg-0BIg80e"
      }
    },
    {
      "cell_type": "markdown",
      "source": [
        "### 날짜와 시간"
      ],
      "metadata": {
        "id": "iAcmgXUEg-UT"
      }
    },
    {
      "cell_type": "markdown",
      "source": [
        "### 파일과 디렉터리"
      ],
      "metadata": {
        "id": "FDL9OnxUhIM1"
      }
    }
  ]
}